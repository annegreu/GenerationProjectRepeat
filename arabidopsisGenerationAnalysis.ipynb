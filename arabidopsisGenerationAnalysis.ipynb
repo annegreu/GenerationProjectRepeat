{
 "cells": [
  {
   "cell_type": "markdown",
   "metadata": {},
   "source": [
    "# Analysis of Arabidopsis genomes grown for 9 generations under temperature stress and control conditions\n",
    "\n",
    "## Getting data\n",
    "\n",
    "Data was generated and provided by the sequencing center of the University of Oslo.\n",
    "\n",
    "## Quality check of fastq files\n",
    "\n",
    "The quality check was carried out by the sequencing center and showed that all samples were of good enough quality for analysis. "
   ]
  },
  {
   "cell_type": "markdown",
   "metadata": {},
   "source": [
    "## Download of the reference genome "
   ]
  },
  {
   "cell_type": "markdown",
   "metadata": {},
   "source": [
    "```bash\n",
    "#Download fasta file with information for all chromosomes   \n",
    "wget https://www.arabidopsis.org/download_files/Genes/TAIR10_genome_release/TAIR10_chromosome_files/TAIR10_chr_all.fas\n",
    "\n",
    "#Index all chomosome fasta files   \n",
    "samtools faidx TAIR10_chr_all.fas\n",
    "```"
   ]
  },
  {
   "cell_type": "markdown",
   "metadata": {},
   "source": [
    "## Find the STR positions in the reference genome"
   ]
  },
  {
   "cell_type": "markdown",
   "metadata": {},
   "source": [
    "```bash\n",
    "#Download the Tandem Repeat Finder from this webpage: https://tandem.bu.edu/trf/trf409.macosx.download.html\n",
    "#Generate dat file with STR positions using the Tandem Repeat Finder\n",
    "./trf409.macosx TAIR10_chr_all.fas 2 7 7 80 10 30 9 -f -d -m -h\n",
    "\n",
    "#rename HipsSTR output from TAIR10_chr_all.fas.2.7.7.80.10.30.500.dat to TAIR10_chr_all.fas.dat\n",
    "mv TAIR10_chr_all.fas.2.7.7.80.10.30.9.dat TAIR10_chr_all.fas2.dat\n",
    "```"
   ]
  },
  {
   "cell_type": "markdown",
   "metadata": {},
   "source": [
    "To use the file in HipSTR it needs to be in bed file format so we convert it using the TRFdat_to_bed.py python script available here: https://github.com/hdashnow/TandemRepeatFinder_scripts/blob/master/TRFdat_to_bed.py\n",
    "\n",
    "Make a text file and copy and paste the script from the website."
   ]
  },
  {
   "cell_type": "markdown",
   "metadata": {},
   "source": [
    "```bash \n",
    "#Convert dat file to bed file for HipSTR\n",
    "./TRFdat_to_bed.py --dat TAIR10_chr_all.fas.dat --bed TAIR10_chr_all.fas.bed\n",
    "./TRFdat_to_bed.py --dat TAIR10_chr_all.fas2.dat --bed TAIR10_chr_all.fas2.bed\n",
    "```"
   ]
  },
  {
   "cell_type": "markdown",
   "metadata": {},
   "source": [
    "```bash\n",
    "#Check bed file\n",
    "head -n 5 TAIR10_chr_all.fas.bed\n",
    "head -n 5 TAIR10_chr_all.fas2.bed\n",
    "\n",
    "#Index ref genome for bwa command to run\n",
    "./../../../../../mnt/c/Users/greul/Downloads/bwa-master/bwa-master/bwa index TAIR10_chr_all.fas\n",
    "bwa index TAIR10_chr_all.fas\n",
    "```"
   ]
  },
  {
   "cell_type": "markdown",
   "metadata": {},
   "source": [
    "Then split the bed file by chromosome so HipSTR can be run in parallel."
   ]
  },
  {
   "cell_type": "markdown",
   "metadata": {},
   "source": [
    "```r\n",
    "#R\n",
    "library(\"dplyr\")\n",
    "\n",
    "txtTair10 <- read.table(\"TAIR10_chr_all.fas2.bed\", sep=\"\\t\")\n",
    "\n",
    "annot_types <- c(\"1\", \"2\", \"3\", \"4\", \"5\")\n",
    "\n",
    "for (i in annot_types){ \n",
    "  for (j in annot_types){ \n",
    "    if (i == j){\n",
    "      a <- filter(txtTair10, txtTair10[, 1] == i)\n",
    "      write.table(a, file = paste0(\"trfStrPositionsTAIR10_\", j, \".txt\"), sep=\"\\t\", col.names=FALSE, row.names=FALSE, quote=FALSE)\n",
    "    }\n",
    "  }\n",
    "}\n",
    "\n",
    "head(a, n=10)\n",
    "```"
   ]
  },
  {
   "cell_type": "markdown",
   "metadata": {},
   "source": [
    "Rename the fastq files for easier use in bwa.  \n",
    "The first command shows how it will look, the second command will actually rename the files.  \n",
    "Remember to cut differently for different amount of sample number digits.  "
   ]
  },
  {
   "cell_type": "markdown",
   "metadata": {},
   "source": [
    "```bash\n",
    "#bash\n",
    "for file in *; do\n",
    "    name=\"${file%.*}\"\n",
    "    if [ ${#name} -eq 56 ]; then\n",
    "       echo mv \"$file\" \"$(echo \"$file\" | cut -c14-20,39-59)\"\n",
    "    fi\n",
    "done\n",
    "\n",
    "for file in *; do\n",
    "    name=\"${file%.*}\"\n",
    "    if [ ${#name} -eq 56 ]; then\n",
    "       cp \"$file\" \"$(echo \"$file\" | cut -c14-20,39-59)\"\n",
    "    fi\n",
    "done\n",
    "\n",
    "```"
   ]
  },
  {
   "cell_type": "markdown",
   "metadata": {},
   "source": [
    "There are some samples with the same library but run on different lanes resulting in two techincal replicates.\n",
    "These samples need to be merged to only get one sample file for downstream analysis."
   ]
  },
  {
   "cell_type": "markdown",
   "metadata": {},
   "source": [
    "```bash\n",
    "\n",
    "# Try with echo to see if correct file names are being inserted: \n",
    "find . -maxdepth 1 -iname \"*_R1_001.fastq.gz\" -type f | \n",
    "sed 's/_L00[78]\\_R1_001.fastq\\.gz$//' | \n",
    "sort -u | \n",
    "while IFS= read -r f; do\n",
    "   echo \"cat ${f}_L007_R1_001.fastq.gz ${f}_L008_R1_001.fastq.gz > ${f}_R1_001.fastq.gz\"\n",
    "done\n",
    "\n",
    "find . -maxdepth 1 -iname \"*_R2_001.fastq.gz\" -type f | \n",
    "sed 's/_L00[78]\\_R2_001.fastq\\.gz$//' | \n",
    "sort -u | \n",
    "while IFS= read -r f; do\n",
    "   echo \"cat ${f}_L007_R2_001.fastq.gz ${f}_L008_R2_001.fastq.gz > ${f}_R2_001.fastq.gz\"\n",
    "done\n",
    "\n",
    "# Then run actual command:\n",
    "find . -maxdepth 1 -iname \"*_R1_001.fastq.gz\" -type f | \n",
    "sed 's/_L00[78]\\_R1_001.fastq\\.gz$//' | \n",
    "sort -u | \n",
    "while IFS= read -r f; do\n",
    "   cat ${f}_L007_R1_001.fastq.gz ${f}_L008_R1_001.fastq.gz > ${f}_R1_001.fastq.gz\n",
    "done\n",
    "\n",
    "find . -maxdepth 1 -iname \"*_R2_001.fastq.gz\" -type f | \n",
    "sed 's/_L00[78]\\_R2_001.fastq\\.gz$//' | \n",
    "sort -u | \n",
    "while IFS= read -r f; do\n",
    "   cat ${f}_L007_R2_001.fastq.gz ${f}_L008_R2_001.fastq.gz > ${f}_R2_001.fastq.gz\n",
    "done\n",
    "\n",
    "```"
   ]
  },
  {
   "cell_type": "markdown",
   "metadata": {},
   "source": [
    "Then run bwa mem to map the fastq.gz files against the reference genome (takes ca. 1 hour per sample)."
   ]
  },
  {
   "cell_type": "markdown",
   "metadata": {},
   "source": [
    "```bash \n",
    "# Try with echo to see if correct file names are being inserted: \n",
    "find . -maxdepth 1 -iname \"*.fastq.gz\" -type f | \n",
    "sed 's/_R[12]_001\\.fastq\\.gz$//' | \n",
    "sort -u | \n",
    "while IFS= read -r f; do\n",
    "   echo \"bwa mem -t 20 ../TAIR10_chr_all.fas ${f}_R1_001.fastq.gz ${f}_R2_001.fastq.gz > ${f}.sam\"\n",
    "done\n",
    "\n",
    "# Then run actual command:\n",
    "find . -maxdepth 1 -iname \"*.fastq.gz\" -type f | \n",
    "sed 's/_R[12]_001\\.fastq\\.gz$//' | \n",
    "sort -u | \n",
    "while IFS= read -r f; do\n",
    "   bwa mem -t 20 ../TAIR10_chr_all.fas ${f}_R1_001.fastq.gz ${f}_R2_001.fastq.gz > ${f}.sam\n",
    "done\n",
    "```"
   ]
  },
  {
   "cell_type": "markdown",
   "metadata": {},
   "source": [
    "## Convert sam to bam\n",
    "\n",
    "In order to use the files in HipSTR they need to be in bam file format.  \n",
    "We convert them as follows:  "
   ]
  },
  {
   "cell_type": "markdown",
   "metadata": {},
   "source": [
    "```bash \n",
    "#bash\n",
    "#The module load is only necessary on SAGA\n",
    "#module load samtools \n",
    "#module load parallel\n",
    "# Try with echo to see if correct file names are being inserted:\n",
    "find . -maxdepth 1 -iname \"*.sam\" -type f | \n",
    "sed 's/\\.sam$//' | \n",
    "sort -u | \n",
    "while IFS= read -r f; do\n",
    "   echo \"samtools view -h -S -@ 20 -b ${f}.sam  > ${f}.bam\"\n",
    "done\n",
    "\n",
    "# Then run actual command:\n",
    "find . -maxdepth 1 -iname \"*.sam\" -type f | \n",
    "sed 's/\\.sam$//' | \n",
    "sort -u | \n",
    "while IFS= read -r f; do\n",
    "   samtools view -h -S -@ 20 -b ${f}.sam  > ${f}.bam \n",
    "done\n",
    "```"
   ]
  },
  {
   "cell_type": "markdown",
   "metadata": {},
   "source": [
    "Options for command *find*:  \n",
    "-maxdepth *levels*: Descend at most levels (a non-negative integer) levels of directories below the starting-points.  *-maxdepth 0* means only apply the tests and actions to the starting-points themselves.\n",
    "\n",
    "-iname *pattern*: Like -name, but the match is case insensitive. For example, the patterns 'fo*' and 'F??' match the file names Foo, FOO, foo, fOo, etc. The pattern 'foo' will also match a file called '.foobar'."
   ]
  },
  {
   "cell_type": "markdown",
   "metadata": {},
   "source": [
    "Check the bam file.\n",
    "\n",
    "```bash \n",
    "# module load samtools\n",
    "samtools view C-G0-S1_L007.bam | head\n",
    "```"
   ]
  },
  {
   "cell_type": "markdown",
   "metadata": {},
   "source": [
    "## Sort the bam files"
   ]
  },
  {
   "cell_type": "markdown",
   "metadata": {},
   "source": [
    "Doing anything meaningful such as calling variants or visualizing alignments in (IGV) requires that the BAM is further manipulated. It must be sorted such that the alignments occur in “genome order”. That is, ordered positionally based upon their alignment coordinates on each chromosome. The -@20 flag can be added if more threads should be used when operating on SAGA. It does not work on PC."
   ]
  },
  {
   "cell_type": "markdown",
   "metadata": {},
   "source": [
    "```bash\n",
    "module load samtools\n",
    "# Try with echo to see if correct file names are being inserted:\n",
    "find . -maxdepth 1 -iname \"*.bam\" -type f | \n",
    "sed 's/\\.bam$//' | \n",
    "sort -u | \n",
    "while IFS= read -r f; do\n",
    "   echo \"samtools sort ${f}.bam -o ${f}.sorted.bam -@ 20\"\n",
    "done\n",
    "\n",
    "# Then run actual command:\n",
    "find . -maxdepth 1 -iname \"*.bam\" -type f | \n",
    "sed 's/\\.bam$//' | \n",
    "sort -u | \n",
    "while IFS= read -r f; do\n",
    "   samtools sort -@ 20 ${f}.bam -o ${f}.sorted.bam \n",
    "done\n",
    "```"
   ]
  },
  {
   "cell_type": "markdown",
   "metadata": {},
   "source": [
    "Check the sorted bam files and move them to the bams folder."
   ]
  },
  {
   "cell_type": "markdown",
   "metadata": {},
   "source": [
    "```bash \n",
    "samtools view C-G0-S1_L007.sorted.bam | head\n",
    "mkdir bams\n",
    "mv C-*.sorted.bam ../bams\n",
    "```"
   ]
  },
  {
   "cell_type": "markdown",
   "metadata": {},
   "source": [
    "## Index the sorted bam files"
   ]
  },
  {
   "cell_type": "markdown",
   "metadata": {},
   "source": [
    "Index the sorted bam files so they can be used in HipSTR and copy to SAGA bams folder."
   ]
  },
  {
   "cell_type": "markdown",
   "metadata": {},
   "source": [
    "```bash \n",
    "cd bams\n",
    "# module load samtools\n",
    "# Try with echo to see if correct file names are being inserted:\n",
    "find . -maxdepth 1 -iname \"*.sorted.bam\" -type f | \n",
    "sed 's/\\.sorted\\.bam$//' | \n",
    "sort -u | \n",
    "while IFS= read -r f; do\n",
    "   echo \"samtools index -b ${f}.sorted.bam\"\n",
    "done\n",
    "\n",
    "# Then run actual command:\n",
    "find . -maxdepth 1 -iname \"*.sorted.bam\" -type f | \n",
    "sed 's/\\.sorted\\.bam$//' | \n",
    "sort -u | \n",
    "while IFS= read -r f; do\n",
    "   samtools index -b ${f}.sorted.bam\n",
    "done\n",
    "\n",
    "scp /Volumes/Seagate/PhD/ArabidopsisGenerationAnalysis/analysis/bams/* annegreu@saga.sigma2.no:/cluster/work/users/annegreu/genSeqAra/bams\n",
    "```"
   ]
  },
  {
   "cell_type": "markdown",
   "metadata": {},
   "source": [
    "Copy the fasta file and the STR region files to SAGA."
   ]
  },
  {
   "cell_type": "markdown",
   "metadata": {},
   "source": [
    "```bash \n",
    "# mac\n",
    "scp /Volumes/Seagate/PhD/ArabidopsisGenerationAnalysis/analysis/TAIR10_chr_all.fas annegreu@saga.sigma2.no:/cluster/work/users/annegreu/genSeqAra\n",
    "\n",
    "scp /Volumes/Seagate/PhD/ArabidopsisGenerationAnalysis/analysis/trfStrPositionsTAIR10_[12345]* annegreu@saga.sigma2.no:/cluster/work/users/annegreu/genSeqAra\n",
    "\n",
    "# windows\n",
    "scp /mnt/e/PhD/ArabidopsisGenerationAnalysis/analysis/TAIR10_chr_all.fas  annegreu@saga.sigma2.no:/cluster/work/users/annegreu/genSeqAra\n",
    "\n",
    "scp /mnt/f/PhD/ArabidopsisGenerationAnalysis/analysis/trfStrPositionsTAIR10_[12345]*  annegreu@saga.sigma2.no:/cluster/work/users/annegreu/genSeqAra\n",
    "```"
   ]
  },
  {
   "cell_type": "markdown",
   "metadata": {},
   "source": [
    "## Running HipSTR - Haplotype inference and phasing for Short Tandem Repeats\n",
    "\n",
    "To compare short tandem repeats from the sequencing data to the reference genome we run HipSTR. \n",
    "\n",
    "Save the following script as a sh file using a text editor and upload the file to SAGA."
   ]
  },
  {
   "cell_type": "markdown",
   "metadata": {},
   "source": [
    "```bash \n",
    "#!/bin/sh\n",
    "#SBATCH --job-name=hipstrArabidopsisGenerationAnalysis\n",
    "#SBATCH --account=nn9244k\n",
    "#SBATCH --time=168:0:0\n",
    "#SBATCH --mem-per-cpu=30000M \n",
    "#SBATCH --partition=bigmem \n",
    "#SBATCH --cpus-per-task=5\n",
    "#SBATCH --mail-user=annegreu@ibv.uio.no\n",
    "#SBATCH --mail-type=ALL\n",
    "\n",
    "#Run HipSTR\n",
    "ALIGNMENTS=/cluster/work/users/annegreu/genSeqAra/bams\n",
    "echo $ALIGNMENTS\n",
    "HIPSTR_OUT=/cluster/work/users/annegreu/genSeqAra/HipSTR\n",
    "echo $HIPSTR_OUT\n",
    "BAMS=$(ls $ALIGNMENTS/*.bam | paste -sd, -)\n",
    "echo $BAMS\n",
    "BAM_SAMPLES=$(ls $ALIGNMENTS/*.bam | cut -d '/' -f8 | cut -d '.' -f1 | paste -sd, -)\n",
    "echo $BAM_SAMPLES\n",
    "\n",
    "#Load in modules on SAGA\n",
    "#module --force purge\n",
    "module load StdEnv\n",
    "module load HipSTR/0.6.2-foss-2018b-Python-3.6.6\n",
    "module swap GCCcore/7.3.0 GCCcore/8.3.0\n",
    "module swap zlib/1.2.11-GCCcore-7.3.0 zlib/1.2.11-GCCcore-8.3.0\n",
    "module load parallel/20190922-GCCcore-8.3.0\n",
    "#module swap GCCcore/8.3.0 GCCcore/7.3.0 , GCCcore needed for HipSTR, is default so by doing purge should be set automatically.\n",
    "\n",
    "#For parallel run by chromosome\n",
    "parallel /cluster/software/HipSTR/0.6.2-foss-2018b-Python-3.6.6/bin/HipSTR\\\n",
    " --bams $BAMS\\\n",
    " --fasta /cluster/work/users/annegreu/genSeqAra/TAIR10_chr_all.fas\\\n",
    " --regions /cluster/work/users/annegreu/genSeqAra/trfStrPositionsTAIR10_{}.txt\\\n",
    " --str-vcf $HIPSTR_OUT/genSeqAra_LG{}.hipstr.vcf.gz\\\n",
    " --log /cluster/work/users/annegreu/genSeqAra/genSeqAra.hipstr.log\\\n",
    " --bam-samps $BAM_SAMPLES\\\n",
    " --bam-libs $BAM_SAMPLES\\\n",
    " --def-stutter-model\\\n",
    " --max-haps 100 ::: {1..5}\n",
    " \n",
    "#Test single chromosome\n",
    "/cluster/software/HipSTR/0.6.2-foss-2018b-Python-3.6.6/bin/HipSTR\\\n",
    " --bams $BAMS\\\n",
    " --fasta /cluster/work/users/annegreu/genSeqAra/gadMor2.fasta\\\n",
    " --regions /cluster/work/users/annegreu/genSeqAra/trfStrPositionsGadmor2_LG01.txt\\\n",
    " --str-vcf $HIPSTR_OUT/testing.hipstr.vcf.gz\\\n",
    " --log /cluster/work/users/annegreu/genSeqAra/codWildNofimaTest.hipstr.log\\\n",
    " --bam-samps $BAM_SAMPLES\\\n",
    " --bam-libs $BAM_SAMPLES\\\n",
    " --def-stutter-model\\\n",
    " --max-haps 100 \n",
    "```"
   ]
  },
  {
   "cell_type": "markdown",
   "metadata": {},
   "source": [
    "```bash \n",
    "#Upload HipSTR script to SAGA to run.\n",
    "# mac\n",
    "scp /Volumes/Seagate/PhD/ArabidopsisGenerationAnalysis/analysis/genSeqAraHipstr.sh annegreu@saga.sigma2.no:/cluster/work/users/annegreu/genSeqAra\n",
    "\n",
    "scp /Volumes/Seagate/PhD/ArabidopsisGenerationAnalysis/analysis/runHipstr.sh annegreu@saga.sigma2.no:/cluster/work/users/annegreu/genSeqAra/bams2\n",
    "\n",
    "# windows\n",
    "scp /mnt/e/PhD/ArabidopsisGenerationAnalysis/analysis/genSeqAraHipstr.sh annegreu@saga.sigma2.no:/cluster/work/users/annegreu/genSeqAra\n",
    "```"
   ]
  },
  {
   "cell_type": "markdown",
   "metadata": {},
   "source": [
    "```bash\n",
    "#Send job into queue\n",
    "sbatch genSeqAraHipstr.sh \n",
    "\n",
    "#Check status of job\n",
    "squeue -u annegreu\n",
    "```"
   ]
  },
  {
   "cell_type": "markdown",
   "metadata": {},
   "source": [
    "If the HipSTR was run for individual chromosomes in parallel the vcf files need to be merged."
   ]
  },
  {
   "cell_type": "markdown",
   "metadata": {},
   "source": [
    "```bash \n",
    "#!/bin/sh\n",
    "#SBATCH --job-name=genSeqAraMerge\n",
    "#SBATCH --account=nn9244k\n",
    "#SBATCH --time=2:0:0\n",
    "#SBATCH --mem-per-cpu=4GB  \n",
    "#SBATCH --cpus-per-task=5\n",
    "#SBATCH --mail-user=annegreu@ibv.uio.no\n",
    "#SBATCH --mail-type=ALL\n",
    "\n",
    "module load  VCFtools/0.1.16-foss-2018b-Perl-5.28.0\n",
    "\n",
    "vcf-concat genSeqAra_LG1.hipstr.vcf.gz genSeqAra_LG2.hipstr.vcf.gz genSeqAra_LG3.hipstr.vcf.gz genSeqAra_LG4.hipstr.vcf.gz genSeqAra_LG5.hipstr.vcf.gz | gzip -c > genSeqAra.hipstr.vcf.gz\n",
    "```"
   ]
  },
  {
   "cell_type": "markdown",
   "metadata": {},
   "source": [
    "```bash\n",
    "#Copy SLURM script to SAGA\n",
    "scp /Volumes/Seagate/PhD/ArabidopsisGenerationAnalysis/analysis/concatVcfs.sh annegreu@saga.sigma2.no:/cluster/work/users/annegreu/genSeqAra\n",
    "\n",
    "#Send job into queue\n",
    "sbatch concatVcfs.sh \n",
    "\n",
    "#Check status of job\n",
    "squeue -u annegreu\n",
    "```"
   ]
  },
  {
   "cell_type": "markdown",
   "metadata": {},
   "source": [
    "Copy the HipSTR output (vcf file) to your own computer or harddrive as backup. Also copy the individual files."
   ]
  },
  {
   "cell_type": "markdown",
   "metadata": {},
   "source": [
    "```bash \n",
    "scp annegreu@saga.sigma2.no:/cluster/work/users/annegreu/genSeqAra/bams2/gen* /Volumes/SeagateNo1/PhD/ArabidopsisGenerationAnalysis/analysis/analysisNineGen\n",
    "```"
   ]
  },
  {
   "cell_type": "code",
   "execution_count": null,
   "metadata": {},
   "outputs": [],
   "source": []
  },
  {
   "cell_type": "code",
   "execution_count": null,
   "metadata": {},
   "outputs": [],
   "source": []
  },
  {
   "cell_type": "code",
   "execution_count": null,
   "metadata": {},
   "outputs": [],
   "source": []
  },
  {
   "cell_type": "code",
   "execution_count": null,
   "metadata": {},
   "outputs": [],
   "source": []
  },
  {
   "cell_type": "code",
   "execution_count": null,
   "metadata": {},
   "outputs": [],
   "source": []
  },
  {
   "cell_type": "code",
   "execution_count": null,
   "metadata": {},
   "outputs": [],
   "source": []
  },
  {
   "cell_type": "markdown",
   "metadata": {},
   "source": [
    "Copy the renamed files to SAGA\n",
    "\n",
    "```bash\n",
    "scp /Volumes/Seagate/PhD/ArabidopsisGenerationAnalysis/analysis/analysisData2/* annegreu@saga.sigma2.no:/cluster/work/users/annegreu/genSeqAra/fastqFiles\n",
    "\n",
    "```"
   ]
  }
 ],
 "metadata": {
  "kernelspec": {
   "display_name": "Python 3",
   "language": "python",
   "name": "python3"
  },
  "language_info": {
   "codemirror_mode": {
    "name": "ipython",
    "version": 3
   },
   "file_extension": ".py",
   "mimetype": "text/x-python",
   "name": "python",
   "nbconvert_exporter": "python",
   "pygments_lexer": "ipython3",
   "version": "3.8.8"
  }
 },
 "nbformat": 4,
 "nbformat_minor": 2
}
